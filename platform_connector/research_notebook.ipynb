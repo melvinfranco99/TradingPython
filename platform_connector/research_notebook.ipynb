{
 "cells": [
  {
   "cell_type": "code",
   "execution_count": 4,
   "metadata": {},
   "outputs": [],
   "source": [
    "import MetaTrader5 as mt5\n",
    "import pandas as pd"
   ]
  },
  {
   "cell_type": "code",
   "execution_count": 2,
   "metadata": {},
   "outputs": [
    {
     "data": {
      "text/plain": [
       "True"
      ]
     },
     "execution_count": 2,
     "metadata": {},
     "output_type": "execute_result"
    }
   ],
   "source": [
    "mt5.initialize(\n",
    "            path= \"C:/Program Files/MetaTrader 5/terminal64.exe\",\n",
    "            login= 88650233,\n",
    "            password= \"AaRdVv_4\",\n",
    "            server= \"MetaQuotes-Demo\",\n",
    "            timeout= 60000,\n",
    "            portable= False)"
   ]
  },
  {
   "cell_type": "code",
   "execution_count": null,
   "metadata": {},
   "outputs": [
    {
     "data": {
      "text/html": [
       "<div>\n",
       "<style scoped>\n",
       "    .dataframe tbody tr th:only-of-type {\n",
       "        vertical-align: middle;\n",
       "    }\n",
       "\n",
       "    .dataframe tbody tr th {\n",
       "        vertical-align: top;\n",
       "    }\n",
       "\n",
       "    .dataframe thead th {\n",
       "        text-align: right;\n",
       "    }\n",
       "</style>\n",
       "<table border=\"1\" class=\"dataframe\">\n",
       "  <thead>\n",
       "    <tr style=\"text-align: right;\">\n",
       "      <th></th>\n",
       "      <th>time</th>\n",
       "      <th>open</th>\n",
       "      <th>high</th>\n",
       "      <th>low</th>\n",
       "      <th>close</th>\n",
       "      <th>tick_volume</th>\n",
       "      <th>spread</th>\n",
       "      <th>real_volume</th>\n",
       "    </tr>\n",
       "  </thead>\n",
       "  <tbody>\n",
       "    <tr>\n",
       "      <th>0</th>\n",
       "      <td>2024-12-06 23:00:00</td>\n",
       "      <td>1.05635</td>\n",
       "      <td>1.05694</td>\n",
       "      <td>1.05614</td>\n",
       "      <td>1.05665</td>\n",
       "      <td>672</td>\n",
       "      <td>4</td>\n",
       "      <td>0</td>\n",
       "    </tr>\n",
       "  </tbody>\n",
       "</table>\n",
       "</div>"
      ],
      "text/plain": [
       "                 time     open     high      low    close  tick_volume  \\\n",
       "0 2024-12-06 23:00:00  1.05635  1.05694  1.05614  1.05665          672   \n",
       "\n",
       "   spread  real_volume  \n",
       "0       4            0  "
      ]
     },
     "execution_count": 17,
     "metadata": {},
     "output_type": "execute_result"
    }
   ],
   "source": [
    "symbol = \"EURUSD\" #simbolo\n",
    "tf = mt5.TIMEFRAME_H1 #fecha apertura\n",
    "from_position = 1 #desde cual vela vamos a imprimir (la 0 es las mas moderna, la 1 una mas antigua, etc)\n",
    "num_bars = 1 #numero de velas que vamos a imprimir\n",
    "\n",
    "\n",
    "bars = pd.DataFrame(mt5.copy_rates_from_pos(\n",
    "        symbol,       \n",
    "        tf,    \n",
    "        from_position,    \n",
    "        num_bars       \n",
    "    ))\n",
    "bars['time'] = pd.to_datetime(bars['time'], unit='s')\n",
    "bars"
   ]
  }
 ],
 "metadata": {
  "kernelspec": {
   "display_name": "mt5python",
   "language": "python",
   "name": "python3"
  },
  "language_info": {
   "codemirror_mode": {
    "name": "ipython",
    "version": 3
   },
   "file_extension": ".py",
   "mimetype": "text/x-python",
   "name": "python",
   "nbconvert_exporter": "python",
   "pygments_lexer": "ipython3",
   "version": "3.11.10"
  }
 },
 "nbformat": 4,
 "nbformat_minor": 2
}

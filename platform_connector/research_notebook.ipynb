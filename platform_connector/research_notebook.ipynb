{
 "cells": [
  {
   "cell_type": "code",
   "execution_count": 1,
   "metadata": {},
   "outputs": [],
   "source": [
    "# Este es un archivo para pruebas en python\n",
    "import MetaTrader5 as mt5\n",
    "import pandas as pd"
   ]
  },
  {
   "cell_type": "code",
   "execution_count": 2,
   "metadata": {},
   "outputs": [
    {
     "data": {
      "text/plain": [
       "True"
      ]
     },
     "execution_count": 2,
     "metadata": {},
     "output_type": "execute_result"
    }
   ],
   "source": [
    "mt5.initialize(\n",
    "            path= \"C:/Program Files/MetaTrader 5/terminal64.exe\",\n",
    "            login= 88650233,\n",
    "            password= \"AaRdVv_4\",\n",
    "            server= \"MetaQuotes-Demo\",\n",
    "            timeout= 60000,\n",
    "            portable= False)"
   ]
  },
  {
   "cell_type": "code",
   "execution_count": 3,
   "metadata": {},
   "outputs": [
    {
     "data": {
      "text/html": [
       "<div>\n",
       "<style scoped>\n",
       "    .dataframe tbody tr th:only-of-type {\n",
       "        vertical-align: middle;\n",
       "    }\n",
       "\n",
       "    .dataframe tbody tr th {\n",
       "        vertical-align: top;\n",
       "    }\n",
       "\n",
       "    .dataframe thead th {\n",
       "        text-align: right;\n",
       "    }\n",
       "</style>\n",
       "<table border=\"1\" class=\"dataframe\">\n",
       "  <thead>\n",
       "    <tr style=\"text-align: right;\">\n",
       "      <th></th>\n",
       "      <th>open</th>\n",
       "      <th>high</th>\n",
       "      <th>low</th>\n",
       "      <th>close</th>\n",
       "      <th>tickvol</th>\n",
       "      <th>vol</th>\n",
       "      <th>spread</th>\n",
       "    </tr>\n",
       "    <tr>\n",
       "      <th>time</th>\n",
       "      <th></th>\n",
       "      <th></th>\n",
       "      <th></th>\n",
       "      <th></th>\n",
       "      <th></th>\n",
       "      <th></th>\n",
       "      <th></th>\n",
       "    </tr>\n",
       "  </thead>\n",
       "  <tbody>\n",
       "    <tr>\n",
       "      <th>2025-01-02 06:00:00</th>\n",
       "      <td>1.03716</td>\n",
       "      <td>1.03757</td>\n",
       "      <td>1.03664</td>\n",
       "      <td>1.03692</td>\n",
       "      <td>693</td>\n",
       "      <td>0</td>\n",
       "      <td>0</td>\n",
       "    </tr>\n",
       "    <tr>\n",
       "      <th>2025-01-02 07:00:00</th>\n",
       "      <td>1.03692</td>\n",
       "      <td>1.03706</td>\n",
       "      <td>1.03618</td>\n",
       "      <td>1.03639</td>\n",
       "      <td>673</td>\n",
       "      <td>0</td>\n",
       "      <td>0</td>\n",
       "    </tr>\n",
       "    <tr>\n",
       "      <th>2025-01-02 08:00:00</th>\n",
       "      <td>1.03638</td>\n",
       "      <td>1.03649</td>\n",
       "      <td>1.03599</td>\n",
       "      <td>1.03636</td>\n",
       "      <td>1125</td>\n",
       "      <td>0</td>\n",
       "      <td>4</td>\n",
       "    </tr>\n",
       "    <tr>\n",
       "      <th>2025-01-02 09:00:00</th>\n",
       "      <td>1.03633</td>\n",
       "      <td>1.03724</td>\n",
       "      <td>1.03623</td>\n",
       "      <td>1.03627</td>\n",
       "      <td>1700</td>\n",
       "      <td>0</td>\n",
       "      <td>4</td>\n",
       "    </tr>\n",
       "    <tr>\n",
       "      <th>2025-01-02 10:00:00</th>\n",
       "      <td>1.03628</td>\n",
       "      <td>1.03709</td>\n",
       "      <td>1.03461</td>\n",
       "      <td>1.03627</td>\n",
       "      <td>2594</td>\n",
       "      <td>0</td>\n",
       "      <td>4</td>\n",
       "    </tr>\n",
       "  </tbody>\n",
       "</table>\n",
       "</div>"
      ],
      "text/plain": [
       "                        open     high      low    close  tickvol  vol  spread\n",
       "time                                                                         \n",
       "2025-01-02 06:00:00  1.03716  1.03757  1.03664  1.03692      693    0       0\n",
       "2025-01-02 07:00:00  1.03692  1.03706  1.03618  1.03639      673    0       0\n",
       "2025-01-02 08:00:00  1.03638  1.03649  1.03599  1.03636     1125    0       4\n",
       "2025-01-02 09:00:00  1.03633  1.03724  1.03623  1.03627     1700    0       4\n",
       "2025-01-02 10:00:00  1.03628  1.03709  1.03461  1.03627     2594    0       4"
      ]
     },
     "execution_count": 3,
     "metadata": {},
     "output_type": "execute_result"
    }
   ],
   "source": [
    "symbol = \"EURUSD\" #simbolo\n",
    "tf = mt5.TIMEFRAME_H1 #fecha apertura\n",
    "from_position = 1 #desde cual vela vamos a imprimir (la 0 es las mas moderna, la 1 una mas antigua, etc)\n",
    "num_bars = 5 #numero de velas que vamos a imprimir\n",
    "\n",
    "\n",
    "bars = pd.DataFrame(mt5.copy_rates_from_pos(\n",
    "        symbol,       \n",
    "        tf,\n",
    "        from_position,    \n",
    "        num_bars       \n",
    "    ))\n",
    "bars['time'] = pd.to_datetime(bars['time'], unit='s')\n",
    "bars.set_index('time', inplace=True)\n",
    "bars.rename(columns={'tick_volume': 'tickvol', 'real_volume': 'vol'}, inplace=True)\n",
    "bars = bars[['open', 'high', 'low', 'close', 'tickvol', 'vol', 'spread']]\n",
    "\n",
    "bars"
   ]
  },
  {
   "cell_type": "code",
   "execution_count": 4,
   "metadata": {},
   "outputs": [
    {
     "data": {
      "text/plain": [
       "pandas.core.series.Series"
      ]
     },
     "execution_count": 4,
     "metadata": {},
     "output_type": "execute_result"
    }
   ],
   "source": [
    "type(bars.iloc[-1])"
   ]
  },
  {
   "cell_type": "code",
   "execution_count": 5,
   "metadata": {},
   "outputs": [
    {
     "data": {
      "text/plain": [
       "{'time': 1735817403,\n",
       " 'bid': 1.03619,\n",
       " 'ask': 1.03624,\n",
       " 'last': 0.0,\n",
       " 'volume': 0,\n",
       " 'time_msc': 1735817403590,\n",
       " 'flags': 1028,\n",
       " 'volume_real': 0.0}"
      ]
     },
     "execution_count": 5,
     "metadata": {},
     "output_type": "execute_result"
    }
   ],
   "source": [
    "tick = mt5.symbol_info_tick(\"EURUSD\")._asdict()\n",
    "tick"
   ]
  },
  {
   "cell_type": "code",
   "execution_count": 6,
   "metadata": {},
   "outputs": [],
   "source": [
    "def get_latest_tick(symbol: str) -> dict:\n",
    "    try:\n",
    "        tick = mt5.symbol_info_tick(symbol)\n",
    "        if tick is None:\n",
    "            print(f\"No se ha podido recuperar su información del simbolo {symbol}.\")\n",
    "            return {}\n",
    "\n",
    "    except Exception as e:\n",
    "        print(f\"Algo no ha ido bien a la hora de recuperar el ultimo tick de {symbol}. MT5 error: {mt5.last_error()}, excepcion: {e}\")\n",
    "    else:\n",
    "        return tick._asdict()"
   ]
  },
  {
   "cell_type": "code",
   "execution_count": 7,
   "metadata": {},
   "outputs": [
    {
     "data": {
      "text/plain": [
       "{'time': 1735817403,\n",
       " 'bid': 1.03619,\n",
       " 'ask': 1.03624,\n",
       " 'last': 0.0,\n",
       " 'volume': 0,\n",
       " 'time_msc': 1735817403590,\n",
       " 'flags': 1028,\n",
       " 'volume_real': 0.0}"
      ]
     },
     "execution_count": 7,
     "metadata": {},
     "output_type": "execute_result"
    }
   ],
   "source": [
    "get_latest_tick(\"EURUSD\")"
   ]
  },
  {
   "cell_type": "code",
   "execution_count": 8,
   "metadata": {},
   "outputs": [
    {
     "data": {
      "text/plain": [
       "open          1.03628\n",
       "high          1.03709\n",
       "low           1.03461\n",
       "close         1.03627\n",
       "tickvol    2594.00000\n",
       "vol           0.00000\n",
       "spread        4.00000\n",
       "Name: 2025-01-02 10:00:00, dtype: float64"
      ]
     },
     "execution_count": 8,
     "metadata": {},
     "output_type": "execute_result"
    }
   ],
   "source": [
    "latest_bar = bars.iloc[-1]\n",
    "latest_bar"
   ]
  }
 ],
 "metadata": {
  "kernelspec": {
   "display_name": "mt5python",
   "language": "python",
   "name": "python3"
  },
  "language_info": {
   "codemirror_mode": {
    "name": "ipython",
    "version": 3
   },
   "file_extension": ".py",
   "mimetype": "text/x-python",
   "name": "python",
   "nbconvert_exporter": "python",
   "pygments_lexer": "ipython3",
   "version": "3.11.10"
  }
 },
 "nbformat": 4,
 "nbformat_minor": 2
}

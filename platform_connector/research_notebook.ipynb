{
 "cells": [
  {
   "cell_type": "code",
   "execution_count": null,
   "metadata": {},
   "outputs": [],
   "source": [
    "# Este es un archivo para pruebas en python\n",
    "import MetaTrader5 as mt5\n",
    "import pandas as pd"
   ]
  },
  {
   "cell_type": "code",
   "execution_count": 8,
   "metadata": {},
   "outputs": [
    {
     "data": {
      "text/plain": [
       "True"
      ]
     },
     "execution_count": 8,
     "metadata": {},
     "output_type": "execute_result"
    }
   ],
   "source": [
    "mt5.initialize(\n",
    "            path= \"C:/Program Files/MetaTrader 5/terminal64.exe\",\n",
    "            login= 88650233,\n",
    "            password= \"AaRdVv_4\",\n",
    "            server= \"MetaQuotes-Demo\",\n",
    "            timeout= 60000,\n",
    "            portable= False)"
   ]
  },
  {
   "cell_type": "code",
   "execution_count": 10,
   "metadata": {},
   "outputs": [
    {
     "data": {
      "text/html": [
       "<div>\n",
       "<style scoped>\n",
       "    .dataframe tbody tr th:only-of-type {\n",
       "        vertical-align: middle;\n",
       "    }\n",
       "\n",
       "    .dataframe tbody tr th {\n",
       "        vertical-align: top;\n",
       "    }\n",
       "\n",
       "    .dataframe thead th {\n",
       "        text-align: right;\n",
       "    }\n",
       "</style>\n",
       "<table border=\"1\" class=\"dataframe\">\n",
       "  <thead>\n",
       "    <tr style=\"text-align: right;\">\n",
       "      <th></th>\n",
       "      <th>open</th>\n",
       "      <th>high</th>\n",
       "      <th>low</th>\n",
       "      <th>close</th>\n",
       "      <th>tickvol</th>\n",
       "      <th>vol</th>\n",
       "      <th>spread</th>\n",
       "    </tr>\n",
       "    <tr>\n",
       "      <th>time</th>\n",
       "      <th></th>\n",
       "      <th></th>\n",
       "      <th></th>\n",
       "      <th></th>\n",
       "      <th></th>\n",
       "      <th></th>\n",
       "      <th></th>\n",
       "    </tr>\n",
       "  </thead>\n",
       "  <tbody>\n",
       "    <tr>\n",
       "      <th>2024-12-06 22:00:00</th>\n",
       "      <td>1.05549</td>\n",
       "      <td>1.05639</td>\n",
       "      <td>1.05539</td>\n",
       "      <td>1.05636</td>\n",
       "      <td>1387</td>\n",
       "      <td>0</td>\n",
       "      <td>4</td>\n",
       "    </tr>\n",
       "  </tbody>\n",
       "</table>\n",
       "</div>"
      ],
      "text/plain": [
       "                        open     high      low    close  tickvol  vol  spread\n",
       "time                                                                         \n",
       "2024-12-06 22:00:00  1.05549  1.05639  1.05539  1.05636     1387    0       4"
      ]
     },
     "execution_count": 10,
     "metadata": {},
     "output_type": "execute_result"
    }
   ],
   "source": [
    "symbol = \"EURUSD\" #simbolo\n",
    "tf = mt5.TIMEFRAME_H1 #fecha apertura\n",
    "from_position = 1 #desde cual vela vamos a imprimir (la 0 es las mas moderna, la 1 una mas antigua, etc)\n",
    "num_bars = 1 #numero de velas que vamos a imprimir\n",
    "\n",
    "\n",
    "bars = pd.DataFrame(mt5.copy_rates_from_pos(\n",
    "        symbol,       \n",
    "        tf,    \n",
    "        from_position,    \n",
    "        num_bars       \n",
    "    ))\n",
    "bars['time'] = pd.to_datetime(bars['time'], unit='s')\n",
    "bars.set_index('time', inplace=True)\n",
    "bars.rename(columns={'tick_volume': 'tickvol', 'real_volume': 'vol'}, inplace=True)\n",
    "bars = bars[['open', 'high', 'low', 'close', 'tickvol', 'vol', 'spread']]\n",
    "\n",
    "bars"
   ]
  }
 ],
 "metadata": {
  "kernelspec": {
   "display_name": "mt5python",
   "language": "python",
   "name": "python3"
  },
  "language_info": {
   "codemirror_mode": {
    "name": "ipython",
    "version": 3
   },
   "file_extension": ".py",
   "mimetype": "text/x-python",
   "name": "python",
   "nbconvert_exporter": "python",
   "pygments_lexer": "ipython3",
   "version": "3.11.10"
  }
 },
 "nbformat": 4,
 "nbformat_minor": 2
}
